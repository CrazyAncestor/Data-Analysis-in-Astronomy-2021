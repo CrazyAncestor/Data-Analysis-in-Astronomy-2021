{
 "cells": [
  {
   "cell_type": "markdown",
   "id": "c0133a77",
   "metadata": {},
   "source": [
    "### Importing some basic libray\n",
    "Numpy - basic numerical operation \\\n",
    "Matplotlib - library for plots \\\n",
    "Astropy - library for astronomy functions"
   ]
  },
  {
   "cell_type": "code",
   "execution_count": 2,
   "id": "adf31050",
   "metadata": {},
   "outputs": [],
   "source": [
    "import numpy as np\n",
    "import matplotlib.pyplot as plt\n",
    "import astropy.io.fits as pf"
   ]
  },
  {
   "cell_type": "markdown",
   "id": "dc38dc70",
   "metadata": {},
   "source": []
  },
  {
   "cell_type": "markdown",
   "id": "87bd8623",
   "metadata": {},
   "source": [
    "Creating a numpy list"
   ]
  },
  {
   "cell_type": "code",
   "execution_count": 3,
   "id": "3f866e30",
   "metadata": {},
   "outputs": [],
   "source": [
    "A = np.arange(0,10)"
   ]
  },
  {
   "cell_type": "code",
   "execution_count": 4,
   "id": "6b1f1095",
   "metadata": {},
   "outputs": [],
   "source": []
  },
  {
   "cell_type": "code",
   "execution_count": null,
   "id": "f0d0f0cb",
   "metadata": {},
   "outputs": [],
   "source": []
  }
 ],
 "metadata": {
  "kernelspec": {
   "display_name": "Python 3",
   "language": "python",
   "name": "python3"
  },
  "language_info": {
   "codemirror_mode": {
    "name": "ipython",
    "version": 3
   },
   "file_extension": ".py",
   "mimetype": "text/x-python",
   "name": "python",
   "nbconvert_exporter": "python",
   "pygments_lexer": "ipython3",
   "version": "3.8.8"
  }
 },
 "nbformat": 4,
 "nbformat_minor": 5
}
