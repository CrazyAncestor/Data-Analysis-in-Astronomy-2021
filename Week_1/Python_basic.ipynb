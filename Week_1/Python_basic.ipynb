{
 "cells": [
  {
   "cell_type": "markdown",
   "id": "dc01018e",
   "metadata": {},
   "source": [
    "\n",
    "This is not a complete tutorial. I just share some useful things. \n",
    "\n",
    "There are many, many python tutorials in books and online. \n",
    "\n",
    "Find tutorials that work for you and learn. \n",
    "\n",
    "But, to me, \n",
    "### The best way to learn to write a code is doing some projects. \n"
   ]
  },
  {
   "cell_type": "markdown",
   "id": "0fcd93e6",
   "metadata": {},
   "source": [
    "### Importing some basic libray\n",
    "Numpy - basic numerical operation \\\n",
    "Matplotlib - library for plots \\\n",
    "Astropy - library for astronomy functions"
   ]
  },
  {
   "cell_type": "code",
   "execution_count": 1,
   "id": "3f1355c5",
   "metadata": {},
   "outputs": [],
   "source": [
    "%config Completer.use_jedi = False # fix auto complete issue"
   ]
  },
  {
   "cell_type": "code",
   "execution_count": 2,
   "id": "2278ab74",
   "metadata": {},
   "outputs": [],
   "source": [
    "#\n",
    "#%matplotlib notebook\n",
    "\n",
    "import numpy as np\n",
    "import matplotlib.pyplot as plt\n",
    "import astropy.io.fits as pf"
   ]
  },
  {
   "cell_type": "markdown",
   "id": "2a695f14",
   "metadata": {},
   "source": [
    "Tip: Always look at the document for the function \\\n",
    "For example, in jupyter notebook, you can type \\\n",
    "print? or \\\n",
    "print [shift+tab]"
   ]
  },
  {
   "cell_type": "code",
   "execution_count": 3,
   "id": "77f14bce",
   "metadata": {},
   "outputs": [],
   "source": [
    "print?"
   ]
  },
  {
   "cell_type": "code",
   "execution_count": 4,
   "id": "bed8f02c",
   "metadata": {},
   "outputs": [
    {
     "name": "stdout",
     "output_type": "stream",
     "text": [
      "Hello data!\n"
     ]
    }
   ],
   "source": [
    "print('Hello data!')"
   ]
  },
  {
   "cell_type": "markdown",
   "id": "3ab36cf9",
   "metadata": {},
   "source": [
    "Simple Variables and Operations"
   ]
  },
  {
   "cell_type": "code",
   "execution_count": 5,
   "id": "ea9c293b",
   "metadata": {},
   "outputs": [],
   "source": [
    "x = 2"
   ]
  },
  {
   "cell_type": "code",
   "execution_count": 6,
   "id": "69d07a53",
   "metadata": {},
   "outputs": [
    {
     "name": "stdout",
     "output_type": "stream",
     "text": [
      "3.141592653589793\n"
     ]
    }
   ],
   "source": [
    "pi = np.pi\n",
    "print(pi)"
   ]
  },
  {
   "cell_type": "code",
   "execution_count": 7,
   "id": "79174149",
   "metadata": {},
   "outputs": [
    {
     "name": "stdout",
     "output_type": "stream",
     "text": [
      "x+pi=5.1416\n",
      "x-pi=-1.1416\n",
      "x*pi=6.2832\n",
      "x/pi=0.6366\n"
     ]
    }
   ],
   "source": [
    "print('x+pi=%0.4f' % (x+pi))\n",
    "print('x-pi=%0.4f' % (x-pi))\n",
    "print('x*pi=%0.4f' % (x*pi))\n",
    "print('x/pi=%0.4f' % (x/pi))"
   ]
  },
  {
   "cell_type": "markdown",
   "id": "54e1b25d",
   "metadata": {},
   "source": [
    "### Container objects\n",
    "List"
   ]
  },
  {
   "cell_type": "code",
   "execution_count": 8,
   "id": "54904ccf",
   "metadata": {},
   "outputs": [
    {
     "name": "stdout",
     "output_type": "stream",
     "text": [
      "[1, 2, 3, 4, 5]\n",
      "[1, 2, 3, 4, 5, 6]\n"
     ]
    }
   ],
   "source": [
    "L = [1,2,3,4,5]\n",
    "print(L)\n",
    "L.append(6)\n",
    "print(L)"
   ]
  },
  {
   "cell_type": "code",
   "execution_count": 9,
   "id": "3d481477",
   "metadata": {},
   "outputs": [
    {
     "name": "stdout",
     "output_type": "stream",
     "text": [
      "[100, 101]\n"
     ]
    }
   ],
   "source": [
    "L = []\n",
    "L.append(100)\n",
    "L.append(101)\n",
    "print(L)"
   ]
  },
  {
   "cell_type": "markdown",
   "id": "9a84994d",
   "metadata": {},
   "source": [
    "Dictionaries"
   ]
  },
  {
   "cell_type": "code",
   "execution_count": 10,
   "id": "741e7a11",
   "metadata": {},
   "outputs": [
    {
     "name": "stdout",
     "output_type": "stream",
     "text": [
      "{'a': 1, 'b': 2, 'c': [100, 101]}\n",
      "[100, 101]\n"
     ]
    }
   ],
   "source": [
    "D = {'a':1,'b':2,'c':L}\n",
    "\n",
    "print(D)\n",
    "print(D['c'])"
   ]
  },
  {
   "cell_type": "markdown",
   "id": "5dd6edb2",
   "metadata": {},
   "source": [
    "### Writing a function\n",
    "Tip: Note the indentation "
   ]
  },
  {
   "cell_type": "code",
   "execution_count": 11,
   "id": "0c15598c",
   "metadata": {},
   "outputs": [],
   "source": [
    "def calculate_the_volumen_of_sphere(radius):\n",
    "    volume = 4./3*np.pi*(radius**3)\n",
    "    return volume"
   ]
  },
  {
   "cell_type": "code",
   "execution_count": 12,
   "id": "52f9442d",
   "metadata": {},
   "outputs": [
    {
     "name": "stdout",
     "output_type": "stream",
     "text": [
      "523.5987755982989\n"
     ]
    }
   ],
   "source": [
    "r = 5\n",
    "print(calculate_the_volumen_of_sphere(r))"
   ]
  },
  {
   "cell_type": "markdown",
   "id": "29410423",
   "metadata": {},
   "source": [
    "### Numpy\n",
    "Beware of the index \\\n",
    "In python it always starts with 0 "
   ]
  },
  {
   "cell_type": "code",
   "execution_count": 13,
   "id": "6186f393",
   "metadata": {},
   "outputs": [],
   "source": [
    "A = np.arange(0,10,1)"
   ]
  },
  {
   "cell_type": "code",
   "execution_count": 14,
   "id": "274f1ecd",
   "metadata": {},
   "outputs": [
    {
     "name": "stdout",
     "output_type": "stream",
     "text": [
      "[0 1 2 3 4 5 6 7 8 9]\n"
     ]
    }
   ],
   "source": [
    "print(A) # This is a print function"
   ]
  },
  {
   "cell_type": "code",
   "execution_count": 15,
   "id": "e7b9e4cd",
   "metadata": {},
   "outputs": [
    {
     "name": "stdout",
     "output_type": "stream",
     "text": [
      "[   0.            4.1887902    33.51032164  113.09733553  268.08257311\n",
      "  523.5987756   904.77868423 1436.75504024 2144.66058485 3053.62805929]\n"
     ]
    }
   ],
   "source": [
    "volume = calculate_the_volumen_of_sphere(A) # using the function\n",
    "print(volume)"
   ]
  },
  {
   "cell_type": "markdown",
   "id": "ac6b52e5",
   "metadata": {},
   "source": [
    "Search (very useful)"
   ]
  },
  {
   "cell_type": "code",
   "execution_count": 16,
   "id": "797020d9",
   "metadata": {},
   "outputs": [],
   "source": [
    "search = np.where((volume>1000)) # This is the index number / be careful"
   ]
  },
  {
   "cell_type": "code",
   "execution_count": 17,
   "id": "06acce9f",
   "metadata": {},
   "outputs": [
    {
     "name": "stdout",
     "output_type": "stream",
     "text": [
      "[7 8 9]\n"
     ]
    }
   ],
   "source": [
    "print(search[0])"
   ]
  },
  {
   "cell_type": "code",
   "execution_count": 18,
   "id": "f353e685",
   "metadata": {},
   "outputs": [
    {
     "data": {
      "text/plain": [
       "array([[[0., 0.],\n",
       "        [0., 0.]],\n",
       "\n",
       "       [[0., 0.],\n",
       "        [0., 0.]]])"
      ]
     },
     "execution_count": 18,
     "metadata": {},
     "output_type": "execute_result"
    }
   ],
   "source": [
    "np.zeros((2,2,2))"
   ]
  },
  {
   "cell_type": "markdown",
   "id": "008a48b3",
   "metadata": {},
   "source": [
    "### Logical Operations\n",
    "\n",
    "\"|\" : or\n",
    "\n",
    "\"&\" : and \n",
    "\n",
    "\">\" : greater\n",
    "\n",
    "\">=\" : greater than or equal\n",
    "\n",
    "\"<\" : less \n",
    "\n",
    "\"<=\" : less than or equal\n",
    "\n",
    "\"==\" : equal\n",
    "\n",
    "\"!=\" : not equal\n",
    "\n"
   ]
  },
  {
   "cell_type": "code",
   "execution_count": 19,
   "id": "f8bf9161",
   "metadata": {},
   "outputs": [
    {
     "name": "stdout",
     "output_type": "stream",
     "text": [
      "[7 8 9]\n"
     ]
    }
   ],
   "source": [
    "search = np.where((volume>1000))\n",
    "print(search[0])"
   ]
  },
  {
   "cell_type": "markdown",
   "id": "60abd41e",
   "metadata": {},
   "source": [
    "### Condition\n",
    "if, elif, else"
   ]
  },
  {
   "cell_type": "code",
   "execution_count": 20,
   "id": "c2c2a970",
   "metadata": {},
   "outputs": [
    {
     "name": "stdout",
     "output_type": "stream",
     "text": [
      "0<=a<10\n"
     ]
    }
   ],
   "source": [
    "a = 0\n",
    "if a>=10:\n",
    "    print(\"a>=10\")\n",
    "elif (a<10) & (a>=0):\n",
    "    print(\"0<=a<10\")\n",
    "else:\n",
    "    print(\"a<0\")"
   ]
  },
  {
   "cell_type": "markdown",
   "id": "54401f30",
   "metadata": {},
   "source": [
    "### Loop\n",
    "for (very useful, I use it everyday)"
   ]
  },
  {
   "cell_type": "code",
   "execution_count": 21,
   "id": "f17069ee",
   "metadata": {},
   "outputs": [
    {
     "name": "stdout",
     "output_type": "stream",
     "text": [
      "1436.7550402417319\n",
      "2144.660584850632\n",
      "3053.6280592892786\n"
     ]
    }
   ],
   "source": [
    "for i in range(0,len(search[0])):\n",
    "    print(volume[search[0][i]])"
   ]
  },
  {
   "cell_type": "markdown",
   "id": "7de9d7a5",
   "metadata": {},
   "source": [
    "while (use it only when necessary)"
   ]
  },
  {
   "cell_type": "code",
   "execution_count": 22,
   "id": "5b3e4efa",
   "metadata": {},
   "outputs": [
    {
     "name": "stdout",
     "output_type": "stream",
     "text": [
      "1\n",
      "2\n",
      "3\n",
      "4\n",
      "5\n",
      "6\n",
      "7\n",
      "8\n",
      "9\n",
      "10\n",
      "11\n"
     ]
    }
   ],
   "source": [
    "a = 0\n",
    "while a<=10:\n",
    "    a+=1\n",
    "    print(a)"
   ]
  },
  {
   "cell_type": "markdown",
   "id": "bdc555c5",
   "metadata": {},
   "source": [
    "### Maplotlib\n",
    "\n",
    "https://matplotlib.org/stable/tutorials/introductory/customizing.html"
   ]
  },
  {
   "cell_type": "code",
   "execution_count": 169,
   "id": "b84a978b",
   "metadata": {},
   "outputs": [],
   "source": [
    "x = np.arange(0,10)\n",
    "y = np.arange(0,10)"
   ]
  },
  {
   "cell_type": "code",
   "execution_count": 170,
   "id": "95d44979",
   "metadata": {},
   "outputs": [],
   "source": [
    "def my_plot_style():\n",
    "   \n",
    "    params = {'legend.fontsize': 20,\n",
    "             'axes.labelsize': 20,\n",
    "             'axes.titlesize':20,\n",
    "             'xtick.labelsize':20,\n",
    "             'ytick.labelsize':20,\n",
    "             'xtick.major.size':5,\n",
    "             'ytick.major.size':5,\n",
    "             'figure.facecolor':'w',\n",
    "             #'lines.linewidth' : 1.5,\n",
    "              'xtick.major.width':1.5,\n",
    "              'ytick.major.width':1.5,\n",
    "              'axes.linewidth':1.5,\n",
    "              'xtick.direction':'in',\n",
    "              'ytick.direction':'in',\n",
    "             'ytick.labelleft':True,\n",
    "             'font.family': ''}\n",
    "  \n",
    "    plt.rcParams.update(params)"
   ]
  },
  {
   "cell_type": "code",
   "execution_count": 172,
   "id": "7bb0c288",
   "metadata": {},
   "outputs": [],
   "source": [
    "def removing_ytick_label():\n",
    "    ax = plt.gca()\n",
    "    ax.axes.yaxis.set_ticklabels([])\n"
   ]
  },
  {
   "cell_type": "code",
   "execution_count": 201,
   "id": "ac79f980",
   "metadata": {
    "scrolled": false
   },
   "outputs": [
    {
     "data": {
      "image/png": "[encoded data removed]",
      "text/plain": [
       "<Figure size 1008x864 with 3 Axes>"
      ]
     },
     "metadata": {},
     "output_type": "display_data"
    }
   ],
   "source": [
    "%matplotlib inline\n",
    "\n",
    "noise = np.random.normal(0,0.5,len(x))\n",
    "\n",
    "my_plot_style()\n",
    "plt.figure(figsize=(14,12))\n",
    "\n",
    "plt.subplots_adjust(left=0.07,right=0.95,top=0.92,bottom=0.09,wspace=0.,hspace=0.)\n",
    "\n",
    "\n",
    "plt.subplot(2,2,1)\n",
    "plt.plot(x,y,label='Best fit',color='C0',zorder=0)\n",
    "plt.errorbar(x,y+noise,yerr=0.5,ls='',color='C1',marker='o',markersize=13,capsize=8,lw=3,mew=3,label='data',zorder=1)\n",
    "plt.legend(frameon=False)\n",
    "plt.xlabel('x',fontsize=20)\n",
    "plt.ylabel('y',fontsize=20)\n",
    "plt.title('My plot')\n",
    "plt.xlim(-1,10.3)\n",
    "plt.ylim(-1,10.3)\n",
    "\n",
    "\n",
    "plt.subplot(2,2,2)\n",
    "plt.plot(x,y,label='Best fit',color='C0',zorder=0)\n",
    "plt.errorbar(x,y+noise,yerr=0.5,ls='',color='C1',marker='o',markersize=13,capsize=8,lw=3,mew=3,label='data',zorder=1)\n",
    "plt.legend(frameon=False)\n",
    "plt.xlabel('x',fontsize=20)\n",
    "#plt.ylabel('y',fontsize=20)\n",
    "plt.title('My plot')\n",
    "plt.xlim(-1,10.3)\n",
    "plt.ylim(-1,10.3)\n",
    "\n",
    "'''\n",
    "Using the \n",
    "'''\n",
    "removing_ytick_label()\n",
    "\n",
    "plt.subplot(2,2,3)\n",
    "plt.plot(x,y,label='Best fit',color='C0',zorder=0)\n",
    "plt.errorbar(x,y+noise,yerr=0.5,ls='',color='C1',marker='o',markersize=13,capsize=8,lw=3,mew=3,label='data',zorder=1)\n",
    "plt.legend(frameon=False)\n",
    "plt.xlabel('x',fontsize=20)\n",
    "plt.ylabel('y',fontsize=20)\n",
    "#plt.title('My plot')\n",
    "plt.xlim(-1,10.3)\n",
    "plt.ylim(-1,10.3)\n",
    "\n",
    "plt.text(6,2,'$\\Omega_{\\\\rm test}$',fontsize=20)\n",
    "plt.text(6,1,'$\\Omega_{test}$',fontsize=20)\n",
    "\n",
    "plt.savefig('plot.pdf')\n",
    "#plt.show()\n"
   ]
  },
  {
   "cell_type": "code",
   "execution_count": 218,
   "id": "c41f3899",
   "metadata": {},
   "outputs": [
    {
     "data": {
      "text/plain": [
       "(0.0, 25.0)"
      ]
     },
     "execution_count": 218,
     "metadata": {},
     "output_type": "execute_result"
    },
    {
     "data": {
      "image/png": "[encoded data removed]",
      "text/plain": [
       "<Figure size 720x360 with 1 Axes>"
      ]
     },
     "metadata": {},
     "output_type": "display_data"
    }
   ],
   "source": [
    "my_plot_style()\n",
    "\n",
    "\n",
    "data = np.random.normal(12,3,1000)\n",
    "plt.figure(figsize=(10,5))\n",
    "plt.hist(data,range=(0,25),bins=100)\n",
    "plt.ylabel('Number')\n",
    "plt.xlabel('x',fontsize=20)\n",
    "plt.ylim(0,50)\n",
    "plt.xlim(0,25)"
   ]
  },
  {
   "cell_type": "code",
   "execution_count": null,
   "id": "f516bbd4",
   "metadata": {},
   "outputs": [],
   "source": []
  }
 ],
 "metadata": {
  "kernelspec": {
   "display_name": "Python 3",
   "language": "python",
   "name": "python3"
  },
  "language_info": {
   "codemirror_mode": {
    "name": "ipython",
    "version": 3
   },
   "file_extension": ".py",
   "mimetype": "text/x-python",
   "name": "python",
   "nbconvert_exporter": "python",
   "pygments_lexer": "ipython3",
   "version": "3.8.8"
  }
 },
 "nbformat": 4,
 "nbformat_minor": 5
}
