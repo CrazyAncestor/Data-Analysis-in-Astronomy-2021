{
 "cells": [
  {
   "cell_type": "code",
   "execution_count": 1,
   "id": "45696d26",
   "metadata": {},
   "outputs": [],
   "source": [
    "import numpy as np\n",
    "mu = 0\n",
    "sigma = 1\n",
    "rand_data = np.random.normal(mu,sigma,1000)\n",
    "x = rand_data"
   ]
  },
  {
   "cell_type": "code",
   "execution_count": 4,
   "id": "bf79d8fa",
   "metadata": {},
   "outputs": [
    {
     "data": {
      "text/plain": [
       "0.02817748570597286"
      ]
     },
     "execution_count": 4,
     "metadata": {},
     "output_type": "execute_result"
    }
   ],
   "source": [
    "epoch = 200\n",
    "mean  = []\n",
    "for t in range(epoch):\n",
    "    rand_idx = np.random.randint(0,len(x),len(x))\n",
    "    sample   = x[rand_idx]\n",
    "    mean.append(np.mean(sample))\n",
    "err = np.std(mean)\n",
    "err"
   ]
  },
  {
   "cell_type": "code",
   "execution_count": 5,
   "id": "8e4fd956",
   "metadata": {},
   "outputs": [],
   "source": [
    "def bootstrap(x):\n",
    "    epoch = 200\n",
    "    mean  = []\n",
    "    for t in range(epoch):\n",
    "        rand_idx = np.random.randint(0,len(x),len(x))\n",
    "        sample   = x[rand_idx]\n",
    "        mean.append(np.mean(sample))\n",
    "    err = np.std(mean)\n",
    "    return err"
   ]
  },
  {
   "cell_type": "code",
   "execution_count": null,
   "id": "1d24a0f5",
   "metadata": {},
   "outputs": [],
   "source": []
  }
 ],
 "metadata": {
  "kernelspec": {
   "display_name": "Python 3 (ipykernel)",
   "language": "python",
   "name": "python3"
  },
  "language_info": {
   "codemirror_mode": {
    "name": "ipython",
    "version": 3
   },
   "file_extension": ".py",
   "mimetype": "text/x-python",
   "name": "python",
   "nbconvert_exporter": "python",
   "pygments_lexer": "ipython3",
   "version": "3.8.10"
  }
 },
 "nbformat": 4,
 "nbformat_minor": 5
}
