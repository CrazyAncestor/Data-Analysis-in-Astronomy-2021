{
 "cells": [
  {
   "cell_type": "markdown",
   "id": "bda41fdb-0777-4f1d-a92b-8bf6dc658cbe",
   "metadata": {},
   "source": [
    "# Data analysis in Astronomy {-}\n",
    "\n",
    "# Homework 1 {-}\n",
    "\n",
    "Due Oct 11 11:59 pm \n",
    "\n",
    "* Please submit your homework through NTU cool \n",
    "* Please write your answers in English\n",
    "\n"
   ]
  },
  {
   "cell_type": "markdown",
   "id": "5c8fd1b7-8ac1-4c6e-8321-84b83f81d83e",
   "metadata": {},
   "source": [
    "Note: for this homework, please do not discuss it with your friends and classmates. Consider that you are the only person who has the dataset and wants to explore it. We will discuss it next week. \n",
    "\n",
    "    \n",
    "Answer these questions in the jupyter notebook and output as a pdf file which includes the code you wrote. \n"
   ]
  },
  {
   "cell_type": "markdown",
   "id": "161dfb5d-8e3c-4872-853f-328ddd9df95d",
   "metadata": {},
   "source": [
    "## 1. (Data exploration) Use the tools (SDSS navigate tools / topcats / Python) discussed in the lecture to explore this dataset (https://www.dropbox.com/s/xakm1krrpqrll8w/a_catalog_with_50_objects.fits?dl=0) and answer the following questions. Please describe what you observe and find and offer plots and evidence when needed: {-}\n",
    "\n",
    "(45\\%)\n",
    "\n",
    "\n",
    "a). Make a color-magnitude plot with y-axis (SDSS_u-SDSS_z) and x-axis (SDSS_z). (10%)"
   ]
  },
  {
   "cell_type": "code",
   "execution_count": 11,
   "id": "3b7a28a4-338f-4ac4-886d-ae0f184bae7b",
   "metadata": {},
   "outputs": [],
   "source": [
    "### Write your code here "
   ]
  },
  {
   "cell_type": "markdown",
   "id": "bbc5c95c-6544-470d-a036-2c00a8e12570",
   "metadata": {},
   "source": [
    "3-5 sentences for each question.\n",
    "\n",
    "\n",
    "b). What are their photometric properties? (Are they extended or point sources? Are they blue or red?) (5%)\n",
    "\n",
    "[Describe]\n",
    "\n",
    "c). What are the properties of their spectra? (Are there any emission lines and/or continuum?) (5%)\n",
    "\n",
    "[Describe]\n",
    "\n",
    "d). What kind of sources are we looking at? (stars, quasars, or galaxies) What are the evidence supporting your conclusion? (10%)\n",
    "\n",
    "[Describe]\n"
   ]
  },
  {
   "cell_type": "markdown",
   "id": "5577d79e-f83d-447e-8ea3-dde6d67c3cb3",
   "metadata": {},
   "source": [
    "e). Do you find any interesting or unexpected objects? Download the spectra of the interesting / unexpected objects and plot it. (15%)\n",
    "\n",
    "Describe why you think they are interesting. (hints: check the outliers in Figure 1) \n"
   ]
  },
  {
   "cell_type": "code",
   "execution_count": 12,
   "id": "448a088c-7455-4e5f-9eb1-767c628e6160",
   "metadata": {},
   "outputs": [],
   "source": [
    "### Write your code here"
   ]
  },
  {
   "cell_type": "markdown",
   "id": "5c2cbe36-5380-42fb-bdad-9a48860c4f68",
   "metadata": {},
   "source": [
    "## 2. (Visualization) Use Python to plot (this dataset https://www.dropbox.com/s/ev10vdr6tjb955s/Simple_mass_metallicity_210927.fits?dl=0) mass (mass) in x-axis and metallicity (OH) in y-axis. The xscale should be [8,12] and the yscale should be around [8, 9.5]. Do your best to make it clean and informative. {-}\n",
    "Add your plot here. \n",
    "\n",
    "(25\\%)"
   ]
  },
  {
   "cell_type": "code",
   "execution_count": 13,
   "id": "570e76b6-d161-47d5-b589-6ce635b08902",
   "metadata": {},
   "outputs": [],
   "source": [
    "### Write your code here "
   ]
  },
  {
   "cell_type": "markdown",
   "id": "3378db4a-d6f5-416f-a997-62e2a2ec7965",
   "metadata": {},
   "source": [
    "## 3. Read Gunn (2020) https://ui.adsabs.harvard.edu/abs/2020ARA%26A..58....1G/abstract and answer the following questions: {-}\n",
    "## Please describe with your own words. (Note that direct copy and paste from the article is plagiarism.) {-}\n",
    "\n",
    "(30%)\n",
    "\n",
    "3-5 sentences for each question.\n",
    "\n",
    "a). What makes SDSS so transformative according to Gunn? (10%)\n",
    "[Describe] \n",
    "\n",
    "b). What are the unexpected key science results offered by SDSS? (10%)\n",
    "[Describe]\n",
    "\n",
    "c). What did you learn after reading this article? (5%)\n",
    "[Describe]\n",
    "\n",
    "d). What happened to the Hubble Space Telescope when it was just launched? [You might also need to google it.] (5%)\n",
    "[Describe]\n",
    "\n"
   ]
  },
  {
   "cell_type": "code",
   "execution_count": null,
   "id": "ac8565c5-ff74-4121-8b40-9ec4be8f679e",
   "metadata": {},
   "outputs": [],
   "source": []
  }
 ],
 "metadata": {
  "kernelspec": {
   "display_name": "Python 3",
   "language": "python",
   "name": "python3"
  },
  "language_info": {
   "codemirror_mode": {
    "name": "ipython",
    "version": 3
   },
   "file_extension": ".py",
   "mimetype": "text/x-python",
   "name": "python",
   "nbconvert_exporter": "python",
   "pygments_lexer": "ipython3",
   "version": "3.8.8"
  },
  "toc-autonumbering": false,
  "toc-showcode": false,
  "toc-showmarkdowntxt": false,
  "toc-showtags": false
 },
 "nbformat": 4,
 "nbformat_minor": 5
}
