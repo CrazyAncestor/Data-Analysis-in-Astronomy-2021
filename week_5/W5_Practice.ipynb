{
 "cells": [
  {
   "cell_type": "code",
   "execution_count": 24,
   "id": "652f38d6",
   "metadata": {},
   "outputs": [],
   "source": [
    "import numpy as np\n",
    "import astropy.io.fits as pf\n",
    "data = pf.open('new.fits')"
   ]
  },
  {
   "cell_type": "code",
   "execution_count": 25,
   "id": "dced3f4e",
   "metadata": {},
   "outputs": [],
   "source": [
    "catalog = data[1].data\n",
    "\n",
    "EBV = catalog['SFD']\n",
    "HI = catalog['HI']/1e21\n",
    "conversion_factor = 2*1e20/1e21\n",
    "H2= catalog['CO10']*conversion_factor"
   ]
  },
  {
   "cell_type": "code",
   "execution_count": 26,
   "id": "48833fc8",
   "metadata": {},
   "outputs": [],
   "source": [
    "import matplotlib.pyplot as plt"
   ]
  },
  {
   "cell_type": "code",
   "execution_count": 27,
   "id": "495698c8",
   "metadata": {},
   "outputs": [
    {
     "data": {
      "image/png": "[encoded data removed]",
      "text/plain": [
       "<Figure size 432x288 with 1 Axes>"
      ]
     },
     "metadata": {
      "needs_background": "light"
     },
     "output_type": "display_data"
    }
   ],
   "source": [
    "\n",
    "plt.scatter(EBV,HI,label='Monte Carlo Method')\n",
    "plt.scatter(EBV,H2,label='Theoretical Expectation')\n",
    "\n",
    "\n",
    "\n",
    "plt.legend(loc='best')\n",
    "plt.show()"
   ]
  },
  {
   "cell_type": "code",
   "execution_count": 28,
   "id": "1cf2038e",
   "metadata": {},
   "outputs": [],
   "source": [
    "def order(x):\n",
    "    y = np.argsort(x)\n",
    "    z = x\n",
    "    for i in range(len(y)):\n",
    "        z[y[i]] = i\n",
    "    return z\n"
   ]
  },
  {
   "cell_type": "code",
   "execution_count": 29,
   "id": "6adb49b2",
   "metadata": {},
   "outputs": [
    {
     "name": "stdout",
     "output_type": "stream",
     "text": [
      "[[1.         0.97584702]\n",
      " [0.97584702 1.        ]]\n",
      "[[1.        0.3560434]\n",
      " [0.3560434 1.       ]]\n"
     ]
    }
   ],
   "source": [
    "y1=order(HI)\n",
    "y2=order(H2)\n",
    "x=order(EBV)\n",
    "a = np.array([x,y1])\n",
    "b = np.array([x,y2])\n",
    "print(np.corrcoef(a))\n",
    "print(np.corrcoef(b))"
   ]
  },
  {
   "cell_type": "code",
   "execution_count": null,
   "id": "f414d6e1",
   "metadata": {},
   "outputs": [],
   "source": []
  }
 ],
 "metadata": {
  "kernelspec": {
   "display_name": "Python 3 (ipykernel)",
   "language": "python",
   "name": "python3"
  },
  "language_info": {
   "codemirror_mode": {
    "name": "ipython",
    "version": 3
   },
   "file_extension": ".py",
   "mimetype": "text/x-python",
   "name": "python",
   "nbconvert_exporter": "python",
   "pygments_lexer": "ipython3",
   "version": "3.8.10"
  }
 },
 "nbformat": 4,
 "nbformat_minor": 5
}
