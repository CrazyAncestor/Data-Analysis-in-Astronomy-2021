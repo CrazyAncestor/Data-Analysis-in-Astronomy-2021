{
 "cells": [
  {
   "cell_type": "code",
   "execution_count": 17,
   "id": "a959f06d",
   "metadata": {},
   "outputs": [],
   "source": [
    "import numpy as np\n",
    "\n",
    "def PearsonCorr(x,y):\n",
    "    return np.corrcoef(x, y)"
   ]
  },
  {
   "cell_type": "code",
   "execution_count": 18,
   "id": "22e4ff87",
   "metadata": {},
   "outputs": [
    {
     "name": "stdout",
     "output_type": "stream",
     "text": [
      "[[1. 1.]\n",
      " [1. 1.]]\n"
     ]
    }
   ],
   "source": [
    "a = np.linspace(0,1,1000)\n",
    "b = np.linspace(4,6,1000)\n",
    "print(PearsonCorr(a,b))"
   ]
  },
  {
   "cell_type": "code",
   "execution_count": null,
   "id": "dcdf415c",
   "metadata": {},
   "outputs": [],
   "source": []
  },
  {
   "cell_type": "code",
   "execution_count": null,
   "id": "7e88c227",
   "metadata": {},
   "outputs": [],
   "source": []
  },
  {
   "cell_type": "code",
   "execution_count": null,
   "id": "f76776fb",
   "metadata": {},
   "outputs": [],
   "source": []
  }
 ],
 "metadata": {
  "kernelspec": {
   "display_name": "Python 3 (ipykernel)",
   "language": "python",
   "name": "python3"
  },
  "language_info": {
   "codemirror_mode": {
    "name": "ipython",
    "version": 3
   },
   "file_extension": ".py",
   "mimetype": "text/x-python",
   "name": "python",
   "nbconvert_exporter": "python",
   "pygments_lexer": "ipython3",
   "version": "3.8.10"
  }
 },
 "nbformat": 4,
 "nbformat_minor": 5
}
